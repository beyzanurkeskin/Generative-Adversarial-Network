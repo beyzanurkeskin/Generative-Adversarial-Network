{
 "cells": [
  {
   "cell_type": "code",
   "execution_count": 5,
   "id": "68309e24",
   "metadata": {},
   "outputs": [],
   "source": [
    "import pandas as pd\n",
    "import torch\n",
    "from torch.utils.data import Dataset, DataLoader\n",
    "import torch.nn as nn\n",
    "\n",
    "\n",
    "class CustomDataset(Dataset):\n",
    "    def __init__(self, csv_file):\n",
    "        self.data = pd.read_csv(csv_file)\n",
    "\n",
    "    def __len__(self):\n",
    "        return len(self.data)\n",
    "\n",
    "    def __getitem__(self, idx):\n",
    "        sample = self.data.iloc[idx].values.astype('float32')\n",
    "        return torch.tensor(sample)\n",
    "\n",
    "dataset = CustomDataset('sample_10k.csv')"
   ]
  },
  {
   "cell_type": "code",
   "execution_count": 6,
   "id": "04211ff6",
   "metadata": {},
   "outputs": [],
   "source": [
    "batch_size = 32\n",
    "data_loader = DataLoader(dataset, batch_size=batch_size, shuffle=True, num_workers=4)"
   ]
  },
  {
   "cell_type": "code",
   "execution_count": 7,
   "id": "935c92b5",
   "metadata": {},
   "outputs": [],
   "source": [
    "input_dim = 30 \n",
    "latent_size = 64\n",
    "hidden_size = 256  "
   ]
  },
  {
   "cell_type": "code",
   "execution_count": 8,
   "id": "f2b26d68",
   "metadata": {},
   "outputs": [],
   "source": [
    "G = nn.Sequential(\n",
    "    nn.Linear(latent_size, 256),  \n",
    "    nn.LeakyReLU(0.2),\n",
    "    nn.Linear(256, 512),           \n",
    "    nn.LeakyReLU(0.2),\n",
    "    nn.Linear(512, 1024),         \n",
    "    nn.LeakyReLU(0.2),\n",
    "    nn.BatchNorm1d(1024),         \n",
    "    nn.Linear(1024, input_dim),   \n",
    "    nn.Tanh()                     \n",
    ")\n"
   ]
  },
  {
   "cell_type": "code",
   "execution_count": 9,
   "id": "660de7af",
   "metadata": {},
   "outputs": [],
   "source": [
    "D = nn.Sequential(\n",
    "    nn.Linear(input_dim, hidden_size),\n",
    "    nn.LeakyReLU(0.2),\n",
    "    nn.Linear(hidden_size, hidden_size),\n",
    "    nn.LeakyReLU(0.2),\n",
    "    nn.Linear(hidden_size, 1),\n",
    "    nn.Sigmoid()\n",
    ")"
   ]
  },
  {
   "cell_type": "code",
   "execution_count": 10,
   "id": "df76e4e1",
   "metadata": {},
   "outputs": [
    {
     "name": "stdout",
     "output_type": "stream",
     "text": [
      "WARNING:tensorflow:From C:\\Users\\Beyza\\anaconda3\\anacondaa3\\lib\\site-packages\\keras\\src\\losses.py:2976: The name tf.losses.sparse_softmax_cross_entropy is deprecated. Please use tf.compat.v1.losses.sparse_softmax_cross_entropy instead.\n",
      "\n"
     ]
    }
   ],
   "source": [
    "criterion = nn.BCELoss()\n",
    "d_optimizer = torch.optim.Adam(D.parameters(), lr=0.0001)\n",
    "g_optimizer = torch.optim.Adam(G.parameters(), lr=0.0002)"
   ]
  },
  {
   "cell_type": "code",
   "execution_count": null,
   "id": "4f602014",
   "metadata": {},
   "outputs": [],
   "source": [
    "import torch.nn as nn\n",
    "import torch\n",
    "\n",
    "device = torch.device('cuda' if torch.cuda.is_available() else 'cpu')\n",
    "\n",
    "G.to(device)\n",
    "D.to(device)\n",
    "\n",
    "\n",
    "def reset_grad():\n",
    "    d_optimizer.zero_grad()\n",
    "    g_optimizer.zero_grad()\n",
    "\n",
    "def train_discriminator(real_data):\n",
    "\n",
    "    real_labels = torch.ones(batch_size, 1).to(device)\n",
    "    fake_labels = torch.zeros(batch_size, 1).to(device)\n",
    "    \n",
    "    outputs = D(real_data)\n",
    "    d_loss_real = criterion(outputs, real_labels)\n",
    "    real_score = outputs\n",
    "    \n",
    "    z = torch.randn(batch_size, latent_size).to(device)\n",
    "    fake_data = G(z)\n",
    "    outputs = D(fake_data)\n",
    "    d_loss_fake = criterion(outputs, fake_labels)\n",
    "    fake_score = outputs\n",
    "    \n",
    "    d_loss = d_loss_real + d_loss_fake\n",
    "    reset_grad()\n",
    "    d_loss.backward()\n",
    "    d_optimizer.step()\n",
    "    \n",
    "    return d_loss, real_score, fake_score\n",
    "\n",
    "def train_generator():\n",
    "    z = torch.randn(batch_size, latent_size).to(device)\n",
    "    fake_data = G(z)\n",
    "    labels = torch.ones(batch_size, 1).to(device) \n",
    "    g_loss = criterion(D(fake_data), labels)\n",
    "    \n",
    "    reset_grad()\n",
    "    g_loss.backward()\n",
    "    g_optimizer.step()\n",
    "    \n",
    "    return g_loss, fake_data\n",
    "\n",
    "num_epochs = 10\n",
    "total_step = len(data_loader)\n",
    "\n",
    "for epoch in range(num_epochs):\n",
    "    for i, real_data in enumerate(data_loader):\n",
    "        real_data = real_data.to(device)\n",
    "        \n",
    "        real_data = real_data.reshape(batch_size, -1)\n",
    "        \n",
    "        d_loss, real_score, fake_score = train_discriminator(real_data)\n",
    "        \n",
    "        g_loss, fake_data = train_generator()\n",
    "        \n",
    "        if (i + 1) % 200 == 0:\n",
    "            print(f'Epoch [{epoch}/{num_epochs}], Step [{i+1}/{total_step}], d_loss: {d_loss.item():.4f}, '\n",
    "                  f'g_loss: {g_loss.item():.4f}, D(x): {real_score.mean().item():.2f}, D(G(z)): {fake_score.mean().item():.2f}')\n",
    "\n",
    "    if (epoch + 1) % 10 == 0:\n",
    "        z = torch.randn(batch_size, latent_size).to(device)\n",
    "        fake_data = G(z)\n",
    "        print(f\"Epoch {epoch + 1}: Üretilen örnek veri - {fake_data[0]}\")\n"
   ]
  },
  {
   "cell_type": "code",
   "execution_count": null,
   "id": "f4c9630b",
   "metadata": {},
   "outputs": [],
   "source": []
  },
  {
   "cell_type": "code",
   "execution_count": null,
   "id": "78541776",
   "metadata": {},
   "outputs": [],
   "source": []
  }
 ],
 "metadata": {
  "kernelspec": {
   "display_name": "Python 3 (ipykernel)",
   "language": "python",
   "name": "python3"
  },
  "language_info": {
   "codemirror_mode": {
    "name": "ipython",
    "version": 3
   },
   "file_extension": ".py",
   "mimetype": "text/x-python",
   "name": "python",
   "nbconvert_exporter": "python",
   "pygments_lexer": "ipython3",
   "version": "3.9.12"
  }
 },
 "nbformat": 4,
 "nbformat_minor": 5
}
